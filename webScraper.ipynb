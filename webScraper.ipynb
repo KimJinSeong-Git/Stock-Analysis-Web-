{
 "cells": [
  {
   "cell_type": "markdown",
   "metadata": {},
   "source": [
    "#### Module Import"
   ]
  },
  {
   "cell_type": "code",
   "execution_count": 10,
   "metadata": {},
   "outputs": [],
   "source": [
    "import selenium\n",
    "import requests\n",
    "from bs4 import BeautifulSoup"
   ]
  },
  {
   "cell_type": "markdown",
   "metadata": {},
   "source": [
    "#### Parse"
   ]
  },
  {
   "cell_type": "code",
   "execution_count": 18,
   "metadata": {},
   "outputs": [
    {
     "name": "stdout",
     "output_type": "stream",
     "text": [
      "[<ul class=\"lst_pop\" id=\"popularItemList\">\n",
      "<li><em>1.</em><a href=\"/item/main.naver?code=005930\" onclick=\"clickcr(this,'boa.list','005930','1',event)\">삼성전자</a><span class=\"dn\">61,300</span><em class=\"bu_p bu_pdn\"><span class=\"blind\">하락</span></em></li>\n",
      "<li><em>2.</em><a href=\"/item/main.naver?code=035720\" onclick=\"clickcr(this,'boa.list','035720','2',event)\">카카오</a><span class=\"dn\">74,000</span><em class=\"bu_p bu_pdn\"><span class=\"blind\">하락</span></em></li>\n",
      "<li><em>3.</em><a href=\"/item/main.naver?code=115310\" onclick=\"clickcr(this,'boa.list','115310','3',event)\">인포바인</a><span class=\"dn\">37,550</span><em class=\"bu_p bu_pdn\"><span class=\"blind\">하락</span></em></li>\n",
      "<li><em>4.</em><a href=\"/item/main.naver?code=000270\" onclick=\"clickcr(this,'boa.list','000270','4',event)\">기아</a><span class=\"dn\">80,400</span><em class=\"bu_p bu_pdn\"><span class=\"blind\">하락</span></em></li>\n",
      "<li><em>5.</em><a href=\"/item/main.naver?code=068270\" onclick=\"clickcr(this,'boa.list','068270','5',event)\">셀트리온</a><span class=\"dn\">187,500</span><em class=\"bu_p bu_pdn\"><span class=\"blind\">하락</span></em></li>\n",
      "<li><em>6.</em><a href=\"/item/main.naver?code=035420\" onclick=\"clickcr(this,'boa.list','035420','6',event)\">NAVER</a><span class=\"noc\">259,000</span><em class=\"bu_p bu_pn\"><span class=\"blind\">보합</span></em></li>\n",
      "<li><em>7.</em><a href=\"/item/main.naver?code=000990\" onclick=\"clickcr(this,'boa.list','000990','7',event)\">DB하이텍</a><span class=\"dn\">44,750</span><em class=\"bu_p bu_pdn\"><span class=\"blind\">하락</span></em></li>\n",
      "<li><em>8.</em><a href=\"/item/main.naver?code=018470\" onclick=\"clickcr(this,'boa.list','018470','8',event)\">조일알미늄</a><span class=\"up\">2,300</span><em class=\"bu_p bu_pup\"><span class=\"blind\">상승</span></em></li>\n",
      "<li><em>9.</em><a href=\"/item/main.naver?code=009540\" onclick=\"clickcr(this,'boa.list','009540','9',event)\">한국조선해양</a><span class=\"up\">86,400</span><em class=\"bu_p bu_pup\"><span class=\"blind\">상승</span></em></li>\n",
      "<li><em>10.</em><a href=\"/item/main.naver?code=211900\" onclick=\"clickcr(this,'boa.list','211900','10',event)\">KODEX 배당성장</a><span class=\"up\">12,955</span><em class=\"bu_p bu_pup\"><span class=\"blind\">상승</span></em></li>\n",
      "</ul>]\n"
     ]
    }
   ],
   "source": [
    "html = 'https://finance.naver.com/sise/'\n",
    "page = requests.get(html)\n",
    "soup = BeautifulSoup(page.text, 'html.parser')\n",
    "\n",
    "popular_item = soup.find_all(id='popularItemList')\n",
    "\n",
    "print(popular_item)"
   ]
  }
 ],
 "metadata": {
  "kernelspec": {
   "display_name": "Python 3.10.4 ('stock_analysis_web')",
   "language": "python",
   "name": "python3"
  },
  "language_info": {
   "codemirror_mode": {
    "name": "ipython",
    "version": 3
   },
   "file_extension": ".py",
   "mimetype": "text/x-python",
   "name": "python",
   "nbconvert_exporter": "python",
   "pygments_lexer": "ipython3",
   "version": "3.10.4"
  },
  "orig_nbformat": 4,
  "vscode": {
   "interpreter": {
    "hash": "11926da8824f2730ca6cc703774525fd3affeccb8b2b64721421cf65fcc09368"
   }
  }
 },
 "nbformat": 4,
 "nbformat_minor": 2
}
